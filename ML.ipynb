{
  "cells": [
    {
      "cell_type": "markdown",
      "metadata": {
        "id": "psLBbCG9wv1m"
      },
      "source": [
        "**MNIST and CIFAR-10 Classification using KNN, MLP, and CNN**\n",
        "\n",
        "*Arman Gökalp*"
      ]
    },
    {
      "cell_type": "code",
      "execution_count": null,
      "metadata": {
        "id": "Z6921ABIkvYz"
      },
      "outputs": [],
      "source": [
        "# Importing libraries\n",
        "import numpy as np\n",
        "import matplotlib.pyplot as plt\n",
        "from sklearn.metrics import confusion_matrix\n",
        "import seaborn as sns\n",
        "\n",
        "from torchvision.datasets import MNIST\n",
        "from torchvision.datasets import CIFAR10\n",
        "\n",
        "import torchvision.transforms as transforms\n",
        "from torch.utils.data import DataLoader\n",
        "\n",
        "from sklearn.neighbors import KNeighborsClassifier\n",
        "from sklearn.model_selection import GridSearchCV\n",
        "from sklearn.metrics import accuracy_score\n",
        "\n",
        "import torch\n",
        "import torch.nn as nn\n",
        "import torch.optim as optim\n",
        "from torchvision.datasets import MNIST\n",
        "import torchvision.transforms as transforms\n",
        "from torch.utils.data import DataLoader, random_split\n",
        "import optuna\n",
        "\n",
        "from sklearn.model_selection import ParameterGrid\n",
        "import torch.nn.functional as F\n",
        "from torchvision import datasets, transforms\n",
        "\n",
        "\n",
        "from sklearn.decomposition import PCA"
      ]
    },
    {
      "cell_type": "markdown",
      "metadata": {
        "id": "ti486F4lo-r7"
      },
      "source": [
        "# **MNIST Classification**"
      ]
    },
    {
      "cell_type": "code",
      "execution_count": null,
      "metadata": {
        "colab": {
          "base_uri": "https://localhost:8080/"
        },
        "id": "rC-Oi59Lhv1y",
        "outputId": "f24eaa7d-b043-435a-cdff-354f42042659"
      },
      "outputs": [
        {
          "name": "stdout",
          "output_type": "stream",
          "text": [
            "Downloading http://yann.lecun.com/exdb/mnist/train-images-idx3-ubyte.gz\n",
            "Downloading http://yann.lecun.com/exdb/mnist/train-images-idx3-ubyte.gz to ./data/MNIST/raw/train-images-idx3-ubyte.gz\n"
          ]
        },
        {
          "name": "stderr",
          "output_type": "stream",
          "text": [
            "100%|██████████| 9912422/9912422 [00:00<00:00, 302160043.93it/s]"
          ]
        },
        {
          "name": "stdout",
          "output_type": "stream",
          "text": [
            "Extracting ./data/MNIST/raw/train-images-idx3-ubyte.gz to ./data/MNIST/raw\n"
          ]
        },
        {
          "name": "stderr",
          "output_type": "stream",
          "text": [
            "\n"
          ]
        },
        {
          "name": "stdout",
          "output_type": "stream",
          "text": [
            "\n",
            "Downloading http://yann.lecun.com/exdb/mnist/train-labels-idx1-ubyte.gz\n",
            "Downloading http://yann.lecun.com/exdb/mnist/train-labels-idx1-ubyte.gz to ./data/MNIST/raw/train-labels-idx1-ubyte.gz\n"
          ]
        },
        {
          "name": "stderr",
          "output_type": "stream",
          "text": [
            "100%|██████████| 28881/28881 [00:00<00:00, 48825350.19it/s]\n"
          ]
        },
        {
          "name": "stdout",
          "output_type": "stream",
          "text": [
            "Extracting ./data/MNIST/raw/train-labels-idx1-ubyte.gz to ./data/MNIST/raw\n",
            "\n",
            "Downloading http://yann.lecun.com/exdb/mnist/t10k-images-idx3-ubyte.gz\n",
            "Downloading http://yann.lecun.com/exdb/mnist/t10k-images-idx3-ubyte.gz to ./data/MNIST/raw/t10k-images-idx3-ubyte.gz\n"
          ]
        },
        {
          "name": "stderr",
          "output_type": "stream",
          "text": [
            "100%|██████████| 1648877/1648877 [00:00<00:00, 163976939.41it/s]\n"
          ]
        },
        {
          "name": "stdout",
          "output_type": "stream",
          "text": [
            "Extracting ./data/MNIST/raw/t10k-images-idx3-ubyte.gz to ./data/MNIST/raw\n",
            "\n",
            "Downloading http://yann.lecun.com/exdb/mnist/t10k-labels-idx1-ubyte.gz\n",
            "Downloading http://yann.lecun.com/exdb/mnist/t10k-labels-idx1-ubyte.gz to ./data/MNIST/raw/t10k-labels-idx1-ubyte.gz\n"
          ]
        },
        {
          "name": "stderr",
          "output_type": "stream",
          "text": [
            "100%|██████████| 4542/4542 [00:00<00:00, 5806317.82it/s]\n"
          ]
        },
        {
          "name": "stdout",
          "output_type": "stream",
          "text": [
            "Extracting ./data/MNIST/raw/t10k-labels-idx1-ubyte.gz to ./data/MNIST/raw\n",
            "\n"
          ]
        }
      ],
      "source": [
        "# Transforming to convert data to tensor and normalize it\n",
        "transform_mnist = transforms.Compose([\n",
        "    transforms.ToTensor(),\n",
        "    transforms.Normalize((0.5,), (0.5,))  # Normalize to [-1, 1]\n",
        "])\n",
        "\n",
        "# Loading MNIST training and test datasets\n",
        "trainset_mnist = MNIST(root='./data', train=True, download=True, transform=transform_mnist)\n",
        "testset_mnist = MNIST(root='./data', train=False, download=True, transform=transform_mnist)\n",
        "\n",
        "# Creating data loaders for MNIST training and test sets\n",
        "batch_size = 64\n",
        "trainloader_mnist = DataLoader(trainset_mnist, batch_size=batch_size, shuffle=True, num_workers=2)\n",
        "testloader_mnist = DataLoader(testset_mnist, batch_size=batch_size, shuffle=False, num_workers=2)"
      ]
    },
    {
      "cell_type": "markdown",
      "metadata": {
        "id": "uNKuucR6onpa"
      },
      "source": [
        "## **KNN for Classifying the MNIST Dataset**"
      ]
    },
    {
      "cell_type": "code",
      "execution_count": null,
      "metadata": {
        "colab": {
          "base_uri": "https://localhost:8080/"
        },
        "id": "SeTbdHdFkhQu",
        "outputId": "7bf0ee4d-f9db-4c10-c755-3f464011b291"
      },
      "outputs": [
        {
          "name": "stdout",
          "output_type": "stream",
          "text": [
            "Fitting 5 folds for each of 6 candidates, totalling 30 fits\n",
            "[CV 1/5] END ...metric=euclidean, n_neighbors=3;, score=0.970 total time=  46.1s\n",
            "[CV 2/5] END ...metric=euclidean, n_neighbors=3;, score=0.970 total time=  41.6s\n",
            "[CV 3/5] END ...metric=euclidean, n_neighbors=3;, score=0.971 total time=  42.7s\n",
            "[CV 4/5] END ...metric=euclidean, n_neighbors=3;, score=0.972 total time=  42.7s\n",
            "[CV 5/5] END ...metric=euclidean, n_neighbors=3;, score=0.973 total time=  42.8s\n",
            "[CV 1/5] END ...metric=euclidean, n_neighbors=5;, score=0.970 total time=  42.3s\n",
            "[CV 2/5] END ...metric=euclidean, n_neighbors=5;, score=0.967 total time=  40.0s\n",
            "[CV 3/5] END ...metric=euclidean, n_neighbors=5;, score=0.972 total time=  41.2s\n",
            "[CV 4/5] END ...metric=euclidean, n_neighbors=5;, score=0.971 total time=  42.1s\n",
            "[CV 5/5] END ...metric=euclidean, n_neighbors=5;, score=0.973 total time=  41.5s\n",
            "[CV 1/5] END ...metric=euclidean, n_neighbors=7;, score=0.969 total time=  41.1s\n",
            "[CV 2/5] END ...metric=euclidean, n_neighbors=7;, score=0.966 total time=  40.3s\n",
            "[CV 3/5] END ...metric=euclidean, n_neighbors=7;, score=0.970 total time=  41.8s\n",
            "[CV 4/5] END ...metric=euclidean, n_neighbors=7;, score=0.970 total time=  48.9s\n",
            "[CV 5/5] END ...metric=euclidean, n_neighbors=7;, score=0.971 total time=  43.5s\n",
            "[CV 1/5] END ...metric=manhattan, n_neighbors=3;, score=0.965 total time=12.3min\n",
            "[CV 2/5] END ...metric=manhattan, n_neighbors=3;, score=0.962 total time=11.8min\n",
            "[CV 3/5] END ...metric=manhattan, n_neighbors=3;, score=0.965 total time=11.8min\n",
            "[CV 4/5] END ...metric=manhattan, n_neighbors=3;, score=0.965 total time=11.8min\n",
            "[CV 5/5] END ...metric=manhattan, n_neighbors=3;, score=0.966 total time=11.8min\n",
            "[CV 1/5] END ...metric=manhattan, n_neighbors=5;, score=0.963 total time=11.8min\n",
            "[CV 2/5] END ...metric=manhattan, n_neighbors=5;, score=0.960 total time=11.8min\n",
            "[CV 3/5] END ...metric=manhattan, n_neighbors=5;, score=0.966 total time=11.8min\n",
            "[CV 4/5] END ...metric=manhattan, n_neighbors=5;, score=0.964 total time=11.9min\n",
            "[CV 5/5] END ...metric=manhattan, n_neighbors=5;, score=0.967 total time=11.8min\n",
            "[CV 1/5] END ...metric=manhattan, n_neighbors=7;, score=0.960 total time=11.8min\n",
            "[CV 2/5] END ...metric=manhattan, n_neighbors=7;, score=0.960 total time=11.8min\n",
            "[CV 3/5] END ...metric=manhattan, n_neighbors=7;, score=0.963 total time=11.8min\n",
            "[CV 4/5] END ...metric=manhattan, n_neighbors=7;, score=0.963 total time=11.9min\n",
            "[CV 5/5] END ...metric=manhattan, n_neighbors=7;, score=0.966 total time=11.8min\n",
            "Best hyperparameters: {'metric': 'euclidean', 'n_neighbors': 3}\n"
          ]
        }
      ],
      "source": [
        "def dataloader_to_numpy(dataloader):\n",
        "    images, labels = [], []\n",
        "    for batch_images, batch_labels in dataloader:\n",
        "        images.append(batch_images.view(batch_images.size(0), -1).numpy())\n",
        "        labels.append(batch_labels.numpy())\n",
        "    return np.vstack(images), np.hstack(labels)\n",
        "\n",
        "X_train, y_train = dataloader_to_numpy(trainloader_mnist)\n",
        "\n",
        "# Defining hyperparameter grid\n",
        "param_grid = {'n_neighbors': [3, 5, 7], 'metric': ['euclidean', 'manhattan']}\n",
        "\n",
        "# Create KNN classifier\n",
        "knn = KNeighborsClassifier()\n",
        "\n",
        "# Performing grid search with 5-fold cross-validation\n",
        "grid_search = GridSearchCV(knn, param_grid, cv=5, verbose=3)\n",
        "grid_search.fit(X_train, y_train)\n",
        "\n",
        "# Getting the best hyperparameters\n",
        "best_params = grid_search.best_params_\n",
        "print(\"Best hyperparameters:\", best_params)\n",
        "# 3hrs"
      ]
    },
    {
      "cell_type": "code",
      "execution_count": null,
      "metadata": {
        "colab": {
          "base_uri": "https://localhost:8080/",
          "height": 74
        },
        "id": "N37IajldnCc2",
        "outputId": "6fa2becc-e295-437c-8ef7-7a6268e93122"
      },
      "outputs": [
        {
          "data": {
            "text/html": [
              "<style>#sk-container-id-1 {color: black;background-color: white;}#sk-container-id-1 pre{padding: 0;}#sk-container-id-1 div.sk-toggleable {background-color: white;}#sk-container-id-1 label.sk-toggleable__label {cursor: pointer;display: block;width: 100%;margin-bottom: 0;padding: 0.3em;box-sizing: border-box;text-align: center;}#sk-container-id-1 label.sk-toggleable__label-arrow:before {content: \"▸\";float: left;margin-right: 0.25em;color: #696969;}#sk-container-id-1 label.sk-toggleable__label-arrow:hover:before {color: black;}#sk-container-id-1 div.sk-estimator:hover label.sk-toggleable__label-arrow:before {color: black;}#sk-container-id-1 div.sk-toggleable__content {max-height: 0;max-width: 0;overflow: hidden;text-align: left;background-color: #f0f8ff;}#sk-container-id-1 div.sk-toggleable__content pre {margin: 0.2em;color: black;border-radius: 0.25em;background-color: #f0f8ff;}#sk-container-id-1 input.sk-toggleable__control:checked~div.sk-toggleable__content {max-height: 200px;max-width: 100%;overflow: auto;}#sk-container-id-1 input.sk-toggleable__control:checked~label.sk-toggleable__label-arrow:before {content: \"▾\";}#sk-container-id-1 div.sk-estimator input.sk-toggleable__control:checked~label.sk-toggleable__label {background-color: #d4ebff;}#sk-container-id-1 div.sk-label input.sk-toggleable__control:checked~label.sk-toggleable__label {background-color: #d4ebff;}#sk-container-id-1 input.sk-hidden--visually {border: 0;clip: rect(1px 1px 1px 1px);clip: rect(1px, 1px, 1px, 1px);height: 1px;margin: -1px;overflow: hidden;padding: 0;position: absolute;width: 1px;}#sk-container-id-1 div.sk-estimator {font-family: monospace;background-color: #f0f8ff;border: 1px dotted black;border-radius: 0.25em;box-sizing: border-box;margin-bottom: 0.5em;}#sk-container-id-1 div.sk-estimator:hover {background-color: #d4ebff;}#sk-container-id-1 div.sk-parallel-item::after {content: \"\";width: 100%;border-bottom: 1px solid gray;flex-grow: 1;}#sk-container-id-1 div.sk-label:hover label.sk-toggleable__label {background-color: #d4ebff;}#sk-container-id-1 div.sk-serial::before {content: \"\";position: absolute;border-left: 1px solid gray;box-sizing: border-box;top: 0;bottom: 0;left: 50%;z-index: 0;}#sk-container-id-1 div.sk-serial {display: flex;flex-direction: column;align-items: center;background-color: white;padding-right: 0.2em;padding-left: 0.2em;position: relative;}#sk-container-id-1 div.sk-item {position: relative;z-index: 1;}#sk-container-id-1 div.sk-parallel {display: flex;align-items: stretch;justify-content: center;background-color: white;position: relative;}#sk-container-id-1 div.sk-item::before, #sk-container-id-1 div.sk-parallel-item::before {content: \"\";position: absolute;border-left: 1px solid gray;box-sizing: border-box;top: 0;bottom: 0;left: 50%;z-index: -1;}#sk-container-id-1 div.sk-parallel-item {display: flex;flex-direction: column;z-index: 1;position: relative;background-color: white;}#sk-container-id-1 div.sk-parallel-item:first-child::after {align-self: flex-end;width: 50%;}#sk-container-id-1 div.sk-parallel-item:last-child::after {align-self: flex-start;width: 50%;}#sk-container-id-1 div.sk-parallel-item:only-child::after {width: 0;}#sk-container-id-1 div.sk-dashed-wrapped {border: 1px dashed gray;margin: 0 0.4em 0.5em 0.4em;box-sizing: border-box;padding-bottom: 0.4em;background-color: white;}#sk-container-id-1 div.sk-label label {font-family: monospace;font-weight: bold;display: inline-block;line-height: 1.2em;}#sk-container-id-1 div.sk-label-container {text-align: center;}#sk-container-id-1 div.sk-container {/* jupyter's `normalize.less` sets `[hidden] { display: none; }` but bootstrap.min.css set `[hidden] { display: none !important; }` so we also need the `!important` here to be able to override the default hidden behavior on the sphinx rendered scikit-learn.org. See: https://github.com/scikit-learn/scikit-learn/issues/21755 */display: inline-block !important;position: relative;}#sk-container-id-1 div.sk-text-repr-fallback {display: none;}</style><div id=\"sk-container-id-1\" class=\"sk-top-container\"><div class=\"sk-text-repr-fallback\"><pre>KNeighborsClassifier(metric=&#x27;euclidean&#x27;, n_neighbors=3)</pre><b>In a Jupyter environment, please rerun this cell to show the HTML representation or trust the notebook. <br />On GitHub, the HTML representation is unable to render, please try loading this page with nbviewer.org.</b></div><div class=\"sk-container\" hidden><div class=\"sk-item\"><div class=\"sk-estimator sk-toggleable\"><input class=\"sk-toggleable__control sk-hidden--visually\" id=\"sk-estimator-id-1\" type=\"checkbox\" checked><label for=\"sk-estimator-id-1\" class=\"sk-toggleable__label sk-toggleable__label-arrow\">KNeighborsClassifier</label><div class=\"sk-toggleable__content\"><pre>KNeighborsClassifier(metric=&#x27;euclidean&#x27;, n_neighbors=3)</pre></div></div></div></div></div>"
            ],
            "text/plain": [
              "KNeighborsClassifier(metric='euclidean', n_neighbors=3)"
            ]
          },
          "execution_count": 9,
          "metadata": {},
          "output_type": "execute_result"
        }
      ],
      "source": [
        "# Creating and training the KNN classifier with the best hyperparameters\n",
        "best_knn = KNeighborsClassifier(**best_params)\n",
        "best_knn.fit(X_train, y_train)"
      ]
    },
    {
      "cell_type": "code",
      "execution_count": null,
      "metadata": {
        "colab": {
          "base_uri": "https://localhost:8080/"
        },
        "id": "9N9Aw5QynvwB",
        "outputId": "be8fda40-cd82-40c5-b8fd-a125ee120731"
      },
      "outputs": [
        {
          "name": "stdout",
          "output_type": "stream",
          "text": [
            "Test accuracy: 0.9705\n"
          ]
        }
      ],
      "source": [
        "X_test, y_test = dataloader_to_numpy(testloader_mnist)\n",
        "\n",
        "# Prediction on the test data\n",
        "y_pred = best_knn.predict(X_test)\n",
        "\n",
        "# Computing the accuracy\n",
        "accuracy = accuracy_score(y_test, y_pred)\n",
        "print(\"Test accuracy:\", accuracy)"
      ]
    },
    {
      "cell_type": "markdown",
      "metadata": {
        "id": "2exngx8WSA0Q"
      },
      "source": [
        "## **MLP for Classifying the MNIST Dataset**"
      ]
    },
    {
      "cell_type": "code",
      "execution_count": null,
      "metadata": {
        "id": "cn3XzZotSRfZ"
      },
      "outputs": [],
      "source": [
        "from torch.utils.data import random_split\n",
        "\n",
        "# Splitting the training set into training and validation sets\n",
        "train_size = int(0.8 * len(trainset_mnist))\n",
        "val_size = len(trainset_mnist) - train_size\n",
        "train_subset, val_subset = random_split(trainset_mnist, [train_size, val_size])\n",
        "\n",
        "# Defining the MLP model\n",
        "class MLP(nn.Module):\n",
        "    def __init__(self, hidden_units1=512, hidden_units2=256):\n",
        "        super(MLP, self).__init__()\n",
        "        self.fc1 = nn.Linear(28 * 28, hidden_units1)\n",
        "        self.fc2 = nn.Linear(hidden_units1, hidden_units2)\n",
        "        self.fc3 = nn.Linear(hidden_units2, 10)\n",
        "        self.relu = nn.ReLU()\n",
        "\n",
        "    def forward(self, x):\n",
        "        x = x.view(x.size(0), -1)  # Flatten the input\n",
        "        x = self.relu(self.fc1(x))\n",
        "        x = self.relu(self.fc2(x))\n",
        "        x = self.fc3(x)\n",
        "        return x\n",
        "\n",
        "def evaluate_model(model, dataloader):\n",
        "  correct = 0\n",
        "  total = 0\n",
        "  with torch.no_grad():\n",
        "    for inputs, labels in dataloader:\n",
        "        outputs = model(inputs)\n",
        "        _, predicted = torch.max(outputs.data, 1)\n",
        "        total += labels.size(0)\n",
        "        correct += (predicted == labels).sum().item()\n",
        "  return correct / total\n",
        "\n",
        "\n",
        "model_mlp = MLP()"
      ]
    },
    {
      "cell_type": "code",
      "execution_count": null,
      "metadata": {
        "colab": {
          "base_uri": "https://localhost:8080/"
        },
        "id": "K_7OJNsdS1Lm",
        "outputId": "d02e8eef-aa8f-48fe-ee4e-09d6e53fd183"
      },
      "outputs": [
        {
          "name": "stderr",
          "output_type": "stream",
          "text": [
            "[I 2023-08-21 06:13:51,910] A new study created in memory with name: no-name-99f874e7-c3ce-4d5b-b13b-8de3c8653303\n",
            "<ipython-input-8-50aa51059bb1>:5: FutureWarning: suggest_loguniform has been deprecated in v3.0.0. This feature will be removed in v6.0.0. See https://github.com/optuna/optuna/releases/tag/v3.0.0. Use suggest_float(..., log=True) instead.\n",
            "  lr = trial.suggest_loguniform('lr', 1e-5, 1e-2)\n",
            "[I 2023-08-21 06:16:03,027] Trial 0 finished with value: 0.58925 and parameters: {'lr': 0.00021699917576934708, 'hidden_units1': 149, 'hidden_units2': 214}. Best is trial 0 with value: 0.58925.\n",
            "[I 2023-08-21 06:18:13,024] Trial 1 finished with value: 0.8890833333333333 and parameters: {'lr': 0.001551765020628078, 'hidden_units1': 403, 'hidden_units2': 152}. Best is trial 1 with value: 0.8890833333333333.\n",
            "[I 2023-08-21 06:20:14,678] Trial 2 finished with value: 0.811 and parameters: {'lr': 0.0005014326956570672, 'hidden_units1': 208, 'hidden_units2': 275}. Best is trial 1 with value: 0.8890833333333333.\n",
            "[I 2023-08-21 06:22:24,792] Trial 3 finished with value: 0.9275833333333333 and parameters: {'lr': 0.006682584015971893, 'hidden_units1': 443, 'hidden_units2': 82}. Best is trial 3 with value: 0.9275833333333333.\n",
            "[I 2023-08-21 06:24:39,752] Trial 4 finished with value: 0.45558333333333334 and parameters: {'lr': 0.00011322252430304095, 'hidden_units1': 459, 'hidden_units2': 267}. Best is trial 3 with value: 0.9275833333333333.\n",
            "[I 2023-08-21 06:26:43,984] Trial 5 finished with value: 0.9205 and parameters: {'lr': 0.005336156434315864, 'hidden_units1': 193, 'hidden_units2': 188}. Best is trial 3 with value: 0.9275833333333333.\n",
            "[I 2023-08-21 06:28:44,535] Trial 6 finished with value: 0.7621666666666667 and parameters: {'lr': 0.00036124338974069867, 'hidden_units1': 168, 'hidden_units2': 293}. Best is trial 3 with value: 0.9275833333333333.\n",
            "[I 2023-08-21 06:30:57,778] Trial 7 finished with value: 0.9185 and parameters: {'lr': 0.00496186116279616, 'hidden_units1': 419, 'hidden_units2': 225}. Best is trial 3 with value: 0.9275833333333333.\n",
            "[I 2023-08-21 06:32:56,037] Trial 8 finished with value: 0.37966666666666665 and parameters: {'lr': 7.353309583144863e-05, 'hidden_units1': 152, 'hidden_units2': 128}. Best is trial 3 with value: 0.9275833333333333.\n",
            "[I 2023-08-21 06:35:09,759] Trial 9 finished with value: 0.6700833333333334 and parameters: {'lr': 0.0002411502724227649, 'hidden_units1': 486, 'hidden_units2': 135}. Best is trial 3 with value: 0.9275833333333333.\n",
            "[I 2023-08-21 06:37:13,867] Trial 10 finished with value: 0.13975 and parameters: {'lr': 1.2795679523941087e-05, 'hidden_units1': 317, 'hidden_units2': 51}. Best is trial 3 with value: 0.9275833333333333.\n",
            "[I 2023-08-21 06:39:17,971] Trial 11 finished with value: 0.9361666666666667 and parameters: {'lr': 0.009914784400067522, 'hidden_units1': 289, 'hidden_units2': 74}. Best is trial 11 with value: 0.9361666666666667.\n",
            "[I 2023-08-21 06:41:23,301] Trial 12 finished with value: 0.9313333333333333 and parameters: {'lr': 0.007967072818747005, 'hidden_units1': 292, 'hidden_units2': 70}. Best is trial 11 with value: 0.9361666666666667.\n",
            "[I 2023-08-21 06:43:28,458] Trial 13 finished with value: 0.9355833333333333 and parameters: {'lr': 0.00947021545813756, 'hidden_units1': 285, 'hidden_units2': 90}. Best is trial 11 with value: 0.9361666666666667.\n",
            "[I 2023-08-21 06:45:32,887] Trial 14 finished with value: 0.8953333333333333 and parameters: {'lr': 0.0020018982436414857, 'hidden_units1': 279, 'hidden_units2': 104}. Best is trial 11 with value: 0.9361666666666667.\n",
            "[I 2023-08-21 06:47:40,880] Trial 15 finished with value: 0.9385 and parameters: {'lr': 0.009200785403521235, 'hidden_units1': 362, 'hidden_units2': 96}. Best is trial 15 with value: 0.9385.\n",
            "[I 2023-08-21 06:49:50,284] Trial 16 finished with value: 0.8975833333333333 and parameters: {'lr': 0.002236463263365696, 'hidden_units1': 360, 'hidden_units2': 109}. Best is trial 15 with value: 0.9385.\n",
            "[I 2023-08-21 06:52:03,549] Trial 17 finished with value: 0.90625 and parameters: {'lr': 0.0028346058020629113, 'hidden_units1': 351, 'hidden_units2': 168}. Best is trial 15 with value: 0.9385.\n",
            "[I 2023-08-21 06:54:05,499] Trial 18 finished with value: 0.8653333333333333 and parameters: {'lr': 0.0010316538765314071, 'hidden_units1': 240, 'hidden_units2': 55}. Best is trial 15 with value: 0.9385.\n",
            "[I 2023-08-21 06:56:02,504] Trial 19 finished with value: 0.9066666666666666 and parameters: {'lr': 0.0033641535717801245, 'hidden_units1': 104, 'hidden_units2': 116}. Best is trial 15 with value: 0.9385.\n"
          ]
        },
        {
          "name": "stdout",
          "output_type": "stream",
          "text": [
            "Number of finished trials:  20\n",
            "Best trial:\n",
            "Value:  0.9385\n",
            "Params: \n",
            "    lr: 0.009200785403521235\n",
            "    hidden_units1: 362\n",
            "    hidden_units2: 96\n"
          ]
        }
      ],
      "source": [
        "import optuna\n",
        "\n",
        "def objective(trial):\n",
        "    # Hyperparameters to be optimized\n",
        "    lr = trial.suggest_loguniform('lr', 1e-5, 1e-2)\n",
        "    hidden_units1 = trial.suggest_int('hidden_units1', 100, 500)\n",
        "    hidden_units2 = trial.suggest_int('hidden_units2', 50, 300)\n",
        "\n",
        "    # Define and train the MLP with these hyperparameters\n",
        "    model = MLP(hidden_units1=hidden_units1, hidden_units2=hidden_units2)\n",
        "    optimizer = optim.SGD(model.parameters(), lr=lr)\n",
        "    criterion = nn.CrossEntropyLoss()\n",
        "\n",
        "    # Training loop\n",
        "    num_epochs = 10\n",
        "    for epoch in range(num_epochs):\n",
        "        for inputs, labels in trainloader_mnist:\n",
        "            optimizer.zero_grad()\n",
        "            outputs = model(inputs)\n",
        "            loss = criterion(outputs, labels)\n",
        "            loss.backward()\n",
        "            optimizer.step()\n",
        "\n",
        "    # Evaluate the model on the validation set\n",
        "    val_accuracy = evaluate_model(model, val_loader)\n",
        "\n",
        "    return val_accuracy\n",
        "\n",
        "\n",
        "# Create a study object and specify the direction is 'maximize'\n",
        "study = optuna.create_study(direction='maximize')\n",
        "\n",
        "# Optimize the study, the objective function is passed in as the first argument\n",
        "study.optimize(objective, n_trials=20)\n",
        "\n",
        "# Results\n",
        "print('Number of finished trials: ', len(study.trials))\n",
        "print('Best trial:')\n",
        "trial = study.best_trial\n",
        "\n",
        "print('Value: ', trial.value)\n",
        "print('Params: ')\n",
        "for key, value in trial.params.items():\n",
        "    print(f'    {key}: {value}')\n",
        "\n",
        "# 42 min\n"
      ]
    },
    {
      "cell_type": "code",
      "execution_count": null,
      "metadata": {
        "id": "WJH1kSqrV1sW"
      },
      "outputs": [],
      "source": [
        "# Loss function\n",
        "criterion = nn.CrossEntropyLoss()\n",
        "\n",
        "# Optimizer (e.g., SGD)\n",
        "optimizer = optim.SGD(model_mlp.parameters(), lr=0.01, momentum=0.9)\n",
        "\n",
        "# Training loop\n",
        "num_epochs = 10\n",
        "for epoch in range(num_epochs):\n",
        "    for inputs, labels in trainloader_mnist:\n",
        "        optimizer.zero_grad()\n",
        "        outputs = model_mlp(inputs)\n",
        "        loss = criterion(outputs, labels)\n",
        "        loss.backward()\n",
        "        optimizer.step()"
      ]
    },
    {
      "cell_type": "code",
      "execution_count": null,
      "metadata": {
        "colab": {
          "base_uri": "https://localhost:8080/"
        },
        "id": "4MkX7WrQWIjV",
        "outputId": "50eb503a-cb27-4333-f434-84c5e205b977"
      },
      "outputs": [
        {
          "name": "stdout",
          "output_type": "stream",
          "text": [
            "Test accuracy: 0.9796\n"
          ]
        }
      ],
      "source": [
        "# Evaluating final model on test data\n",
        "correct = 0\n",
        "total = 0\n",
        "with torch.no_grad():\n",
        "    for inputs, labels in testloader_mnist:\n",
        "        outputs = model_mlp(inputs)\n",
        "        _, predicted = torch.max(outputs.data, 1)\n",
        "        total += labels.size(0)\n",
        "        correct += (predicted == labels).sum().item()\n",
        "\n",
        "accuracy_mlp = correct / total\n",
        "print(\"Test accuracy:\", accuracy_mlp)"
      ]
    },
    {
      "cell_type": "markdown",
      "metadata": {
        "id": "3_0gPFDr-0tl"
      },
      "source": [
        "## **CNN for Classifying the MNIST Dataset**"
      ]
    },
    {
      "cell_type": "code",
      "execution_count": null,
      "metadata": {
        "id": "9wyLdT1pWMOM"
      },
      "outputs": [],
      "source": [
        "# Split into training and validation sets\n",
        "train_size = int(0.8 * len(trainset_mnist))\n",
        "val_size = len(trainset_mnist) - train_size\n",
        "train_subset, val_subset = random_split(trainset_mnist, [train_size, val_size])\n",
        "\n",
        "trainloader_mnist = DataLoader(train_subset, batch_size=64, shuffle=True)\n",
        "val_loader_mnist = DataLoader(val_subset, batch_size=64, shuffle=False)\n",
        "testloader_mnist = DataLoader(testset_mnist, batch_size=64, shuffle=False)\n",
        "\n",
        "# Defining the CNN model\n",
        "class CNN(nn.Module):\n",
        "    def __init__(self, dropout_rate=0.3):\n",
        "        super(CNN, self).__init__()\n",
        "        self.conv1 = nn.Conv2d(1, 32, 3, 1)\n",
        "        self.conv2 = nn.Conv2d(32, 64, 3, 1)\n",
        "        self.dropout1 = nn.Dropout(dropout_rate)\n",
        "        self.dropout2 = nn.Dropout(dropout_rate)\n",
        "        self.fc1_input_size = 9216\n",
        "        self.fc1 = nn.Linear(self.fc1_input_size, 128)\n",
        "        self.fc2 = nn.Linear(128, 10)\n",
        "\n",
        "    def forward(self, x):\n",
        "        x = self.conv1(x)\n",
        "        x = F.relu(x)\n",
        "        x = self.conv2(x)\n",
        "        x = F.relu(x)\n",
        "        x = F.max_pool2d(x, 2)\n",
        "        x = self.dropout1(x)\n",
        "        x = torch.flatten(x, 1)\n",
        "        x = self.fc1(x)\n",
        "        x = F.relu(x)\n",
        "        x = self.dropout2(x)\n",
        "        x = self.fc2(x)\n",
        "        return x"
      ]
    },
    {
      "cell_type": "code",
      "execution_count": null,
      "metadata": {
        "colab": {
          "base_uri": "https://localhost:8080/"
        },
        "id": "wPJt8Rk0Ai4U",
        "outputId": "2069467c-f4b1-4048-a40a-2d0cce70eb0b"
      },
      "outputs": [
        {
          "name": "stdout",
          "output_type": "stream",
          "text": [
            "Params: {'lr': 0.001, 'dropout_rate': 0.3} Validation Accuracy: 0.98275\n",
            "Params: {'lr': 0.001, 'dropout_rate': 0.5} Validation Accuracy: 0.9801666666666666\n",
            "Params: {'lr': 0.01, 'dropout_rate': 0.3} Validation Accuracy: 0.11166666666666666\n",
            "Params: {'lr': 0.01, 'dropout_rate': 0.5} Validation Accuracy: 0.11166666666666666\n",
            "Best accuracy: 0.98275\n",
            "Best parameters: {'lr': 0.001, 'dropout_rate': 0.3}\n"
          ]
        }
      ],
      "source": [
        "# Function for evaluating the model\n",
        "def evaluate_model(model, dataloader):\n",
        "    correct = 0\n",
        "    total = 0\n",
        "    with torch.no_grad():\n",
        "        for inputs, labels in dataloader:\n",
        "            outputs = model(inputs)\n",
        "            _, predicted = torch.max(outputs.data, 1)\n",
        "            total += labels.size(0)\n",
        "            correct += (predicted == labels).sum().item()\n",
        "    return correct / total\n",
        "\n",
        "# Function for training and evaluating the model\n",
        "def train_evaluate(params):\n",
        "    model = CNN(dropout_rate=params['dropout_rate'])\n",
        "    optimizer = optim.Adam(model.parameters(), lr=params['lr'])\n",
        "    criterion = nn.CrossEntropyLoss()\n",
        "\n",
        "    # Training\n",
        "    num_epochs = 10\n",
        "    for epoch in range(num_epochs):\n",
        "        for inputs, labels in trainloader_mnist:\n",
        "            optimizer.zero_grad()\n",
        "            outputs = model(inputs)\n",
        "            loss = criterion(outputs, labels)\n",
        "            loss.backward()\n",
        "            optimizer.step()\n",
        "\n",
        "    val_accuracy = evaluate_model(model, val_loader_mnist)\n",
        "    return val_accuracy\n",
        "\n",
        "# Defining the hyperparameter values\n",
        "learning_rates = [1e-3, 1e-2]\n",
        "dropout_rates = [0.3, 0.5]\n",
        "\n",
        "best_accuracy = 0\n",
        "best_params = None\n",
        "\n",
        "# Iterating through the hyperparameter combinations\n",
        "for lr in learning_rates:\n",
        "    for dropout_rate in dropout_rates:\n",
        "        params = {'lr': lr, 'dropout_rate': dropout_rate}\n",
        "        val_accuracy = train_evaluate(params)\n",
        "        print(\"Params:\", params, \"Validation Accuracy:\", val_accuracy)\n",
        "        if val_accuracy > best_accuracy:\n",
        "            best_accuracy = val_accuracy\n",
        "            best_params = params\n",
        "\n",
        "print(\"Best accuracy:\", best_accuracy)\n",
        "print(\"Best parameters:\", best_params)"
      ]
    },
    {
      "cell_type": "code",
      "execution_count": null,
      "metadata": {
        "colab": {
          "base_uri": "https://localhost:8080/"
        },
        "id": "cRnHQeTjNCay",
        "outputId": "6fe86b1d-a391-4643-82af-9ea9eaa7cd4b"
      },
      "outputs": [
        {
          "name": "stdout",
          "output_type": "stream",
          "text": [
            "Test Accuracy: 0.9869\n"
          ]
        }
      ],
      "source": [
        "# Initialize the model with the best hyperparameters\n",
        "best_model = CNN(dropout_rate=best_params['dropout_rate'])\n",
        "\n",
        "# Define the optimizer with the best learning rate\n",
        "optimizer = optim.Adam(best_model.parameters(), lr=best_params['lr'])\n",
        "criterion = nn.CrossEntropyLoss()\n",
        "\n",
        "# Training loop using the entire training set (including validation)\n",
        "num_epochs = 10\n",
        "for epoch in range(num_epochs):\n",
        "    for inputs, labels in trainloader_mnist:\n",
        "        optimizer.zero_grad()\n",
        "        outputs = best_model(inputs)\n",
        "        loss = criterion(outputs, labels)\n",
        "        loss.backward()\n",
        "        optimizer.step()\n",
        "\n",
        "# Evaluate on the test set\n",
        "test_accuracy = evaluate_model(best_model, testloader_mnist)\n",
        "print(\"Test Accuracy:\", test_accuracy)"
      ]
    },
    {
      "cell_type": "markdown",
      "metadata": {
        "id": "uX2wlFizN0qM"
      },
      "source": [
        "## **Comparing the Models**"
      ]
    },
    {
      "cell_type": "code",
      "execution_count": null,
      "metadata": {
        "colab": {
          "base_uri": "https://localhost:8080/"
        },
        "id": "aRs6GTZXTcVz",
        "outputId": "f250cf48-d7bb-4ddf-9601-08896d998347"
      },
      "outputs": [
        {
          "name": "stdout",
          "output_type": "stream",
          "text": [
            "Test Accuracy for k-NN model: 0.9705\n",
            "Test Accuracy for MLP model: 0.9796\n",
            "Test Accuracy for CNN model: 0.9869\n"
          ]
        }
      ],
      "source": [
        "print(\"Test Accuracy for k-NN model:\", accuracy)\n",
        "print(\"Test Accuracy for MLP model:\", accuracy_mlp)\n",
        "print(\"Test Accuracy for CNN model:\", test_accuracy)"
      ]
    },
    {
      "cell_type": "code",
      "execution_count": null,
      "metadata": {
        "colab": {
          "base_uri": "https://localhost:8080/",
          "height": 489
        },
        "id": "8Ylc05PETfj_",
        "outputId": "005f3e7d-8c85-459a-a67c-47e2a66bd285"
      },
      "outputs": [
        {
          "data": {
            "image/png": "[encoded data removed]",
            "text/plain": [
              "<Figure size 640x480 with 1 Axes>"
            ]
          },
          "metadata": {},
          "output_type": "display_data"
        },
        {
          "name": "stdout",
          "output_type": "stream",
          "text": [
            "Best model is: CNN\n"
          ]
        }
      ],
      "source": [
        "models = ['k-NN', 'MLP', 'CNN']\n",
        "accuracies = [accuracy, accuracy_mlp, test_accuracy]\n",
        "\n",
        "plt.bar(models, accuracies)\n",
        "plt.xlabel('Models')\n",
        "plt.ylabel('Test Accuracy')\n",
        "plt.title('Comparison of Test Accuracies')\n",
        "plt.ylim(0.8, 1)\n",
        "plt.show()\n",
        "\n",
        "\n",
        "print(f'Best model is: {models[accuracies.index(max(accuracies))]}')"
      ]
    },
    {
      "cell_type": "markdown",
      "metadata": {
        "id": "gN-Svq2VqTb3"
      },
      "source": [
        "## **Error Analysis for the Best Model**"
      ]
    },
    {
      "cell_type": "code",
      "execution_count": null,
      "metadata": {
        "colab": {
          "base_uri": "https://localhost:8080/",
          "height": 815
        },
        "id": "voSz7JmuozPc",
        "outputId": "034e3160-a2f8-4cb2-95f5-59aba2d4bdc7"
      },
      "outputs": [
        {
          "data": {
            "image/png": "[encoded data removed]",
            "text/plain": [
              "<Figure size 1000x1000 with 2 Axes>"
            ]
          },
          "metadata": {},
          "output_type": "display_data"
        }
      ],
      "source": [
        "# Get predictions and ground truth labels\n",
        "y_true = []\n",
        "y_pred = []\n",
        "best_model = CNN(dropout_rate=best_params['dropout_rate'])\n",
        "with torch.no_grad():\n",
        "    for inputs, labels in testloader_mnist:\n",
        "        outputs = best_model(inputs)\n",
        "        _, predicted = torch.max(outputs.data, 1)\n",
        "        y_true.extend(labels.numpy())\n",
        "        y_pred.extend(predicted.numpy())\n",
        "\n",
        "# Computing the confusion matrix\n",
        "conf_matrix = confusion_matrix(y_true, y_pred)\n",
        "\n",
        "# Plotting the confusion matrix\n",
        "plt.figure(figsize=(10, 10))\n",
        "plt.imshow(conf_matrix, interpolation='nearest', cmap=plt.cm.Blues)\n",
        "plt.title('Confusion Matrix')\n",
        "plt.colorbar()\n",
        "classes = [str(i) for i in range(10)]\n"
      ]
    },
    {
      "cell_type": "code",
      "execution_count": null,
      "metadata": {
        "colab": {
          "base_uri": "https://localhost:8080/"
        },
        "id": "aWubXWLMtC2P",
        "outputId": "3b6dc523-0847-4d1a-dd7c-7766e8f09941"
      },
      "outputs": [
        {
          "name": "stdout",
          "output_type": "stream",
          "text": [
            "The most common misclassification is between class 7 and class 6\n"
          ]
        }
      ],
      "source": [
        "conf_matrix = confusion_matrix(y_true, y_pred)\n",
        "\n",
        "# Setting diagonal elements to zero so we are only considering misclassification elements\n",
        "np.fill_diagonal(conf_matrix, 0)\n",
        "\n",
        "# Coordinates for the max value in the confusion matrix\n",
        "row, col = np.unravel_index(conf_matrix.argmax(), conf_matrix.shape)\n",
        "\n",
        "print(f\"The most common misclassification is between class {row} and class {col}\")"
      ]
    },
    {
      "cell_type": "code",
      "execution_count": null,
      "metadata": {
        "colab": {
          "base_uri": "https://localhost:8080/",
          "height": 367
        },
        "id": "S2O5vKyctpno",
        "outputId": "5c1dff45-c9e0-4a5f-b8c9-0fe2fff42914"
      },
      "outputs": [
        {
          "data": {
            "image/png": "[encoded data removed]",
            "text/plain": [
              "<Figure size 1000x300 with 5 Axes>"
            ]
          },
          "metadata": {},
          "output_type": "display_data"
        },
        {
          "data": {
            "image/png": "[encoded data removed]",
            "text/plain": [
              "<Figure size 1000x300 with 5 Axes>"
            ]
          },
          "metadata": {},
          "output_type": "display_data"
        }
      ],
      "source": [
        "misclassified_images = []\n",
        "misclassified_labels = []\n",
        "misclassified_preds = []\n",
        "\n",
        "with torch.no_grad():\n",
        "    for inputs, labels in testloader_mnist:\n",
        "        outputs = best_model(inputs)\n",
        "        _, predicted = torch.max(outputs.data, 1)\n",
        "        mask = (predicted != labels) & ((labels == 6) & (predicted == 7) | (labels == 7) & (predicted == 6))\n",
        "        misclassified_images.extend(inputs[mask])\n",
        "        misclassified_labels.extend(labels[mask])\n",
        "        misclassified_preds.extend(predicted[mask])\n",
        "\n",
        "def visualize_misclassifications(actual_class, predicted_class, num_images=5):\n",
        "    plt.figure(figsize=(10, 3))\n",
        "    count = 0\n",
        "    for img, true_label, pred_label in zip(misclassified_images, misclassified_labels, misclassified_preds):\n",
        "        if true_label == actual_class and pred_label == predicted_class and count < num_images:\n",
        "            plt.subplot(1, num_images, count + 1)\n",
        "            plt.imshow(img.squeeze(), cmap=\"gray\")\n",
        "            plt.title(f\"True: {true_label.item()}, Pred: {pred_label.item()}\")\n",
        "            plt.axis(\"off\")\n",
        "            count += 1\n",
        "    plt.show()\n",
        "\n",
        "# Predicted 7, actual 6\n",
        "visualize_misclassifications(6, 7)\n",
        "\n",
        "# PRedicted 6, actual 7\n",
        "visualize_misclassifications(7, 6)\n"
      ]
    },
    {
      "cell_type": "markdown",
      "metadata": {
        "id": "PRXagc-ow2KP"
      },
      "source": [
        "# **CIFAR-10 Classification**"
      ]
    },
    {
      "cell_type": "code",
      "execution_count": null,
      "metadata": {
        "colab": {
          "base_uri": "https://localhost:8080/"
        },
        "id": "_zN22ZoGw8kG",
        "outputId": "ce77d3d2-a4cb-499d-9829-94899bf9d71c"
      },
      "outputs": [
        {
          "name": "stdout",
          "output_type": "stream",
          "text": [
            "Downloading https://www.cs.toronto.edu/~kriz/cifar-10-python.tar.gz to ./data/cifar-10-python.tar.gz\n"
          ]
        },
        {
          "name": "stderr",
          "output_type": "stream",
          "text": [
            "100%|██████████| 170498071/170498071 [00:01<00:00, 99648507.95it/s] \n"
          ]
        },
        {
          "name": "stdout",
          "output_type": "stream",
          "text": [
            "Extracting ./data/cifar-10-python.tar.gz to ./data\n",
            "Files already downloaded and verified\n"
          ]
        }
      ],
      "source": [
        "# Transforming to convert data to tensor and normalize it\n",
        "transform_cifar10 = transforms.Compose([\n",
        "    transforms.ToTensor(),\n",
        "    transforms.Normalize((0.5, 0.5, 0.5), (0.5, 0.5, 0.5))  # Normalize to [-1, 1]\n",
        "])\n",
        "\n",
        "# Loading CIFAR-10 training and test datasets\n",
        "trainset_cifar10 = CIFAR10(root='./data', train=True, download=True, transform=transform_cifar10)\n",
        "testset_cifar10 = CIFAR10(root='./data', train=False, download=True, transform=transform_cifar10)\n",
        "\n",
        "# Creating data loaders for CIFAR-10 training and test sets\n",
        "batch_size = 64\n",
        "trainloader_cifar10 = DataLoader(trainset_cifar10, batch_size=batch_size, shuffle=True, num_workers=2)\n",
        "testloader_cifar10 = DataLoader(testset_cifar10, batch_size=batch_size, shuffle=False, num_workers=2)\n",
        "\n",
        "# CIFAR-10 classes\n",
        "classes_cifar10 = ('plane', 'car', 'bird', 'cat', 'deer', 'dog', 'frog', 'horse', 'ship', 'truck')\n"
      ]
    },
    {
      "cell_type": "markdown",
      "metadata": {
        "id": "OfeWnybVz0qZ"
      },
      "source": [
        "## **KNN for Classifying the CIFAR-10 Dataset**"
      ]
    },
    {
      "cell_type": "code",
      "execution_count": null,
      "metadata": {
        "colab": {
          "base_uri": "https://localhost:8080/"
        },
        "id": "qAYaK6OTxeZT",
        "outputId": "c6c122d8-9715-4e7a-9775-b39deef50395"
      },
      "outputs": [
        {
          "name": "stdout",
          "output_type": "stream",
          "text": [
            "Fitting 5 folds for each of 6 candidates, totalling 30 fits\n",
            "[CV 1/5] END ...metric=euclidean, n_neighbors=3;, score=0.358 total time=   5.6s\n",
            "[CV 2/5] END ...metric=euclidean, n_neighbors=3;, score=0.364 total time=   4.2s\n",
            "[CV 3/5] END ...metric=euclidean, n_neighbors=3;, score=0.360 total time=   4.1s\n",
            "[CV 4/5] END ...metric=euclidean, n_neighbors=3;, score=0.359 total time=   5.5s\n",
            "[CV 5/5] END ...metric=euclidean, n_neighbors=3;, score=0.373 total time=   4.2s\n",
            "[CV 1/5] END ...metric=euclidean, n_neighbors=5;, score=0.363 total time=   6.1s\n",
            "[CV 2/5] END ...metric=euclidean, n_neighbors=5;, score=0.374 total time=   4.8s\n",
            "[CV 3/5] END ...metric=euclidean, n_neighbors=5;, score=0.375 total time=   4.2s\n",
            "[CV 4/5] END ...metric=euclidean, n_neighbors=5;, score=0.371 total time=   5.2s\n",
            "[CV 5/5] END ...metric=euclidean, n_neighbors=5;, score=0.379 total time=   4.6s\n",
            "[CV 1/5] END ...metric=euclidean, n_neighbors=7;, score=0.363 total time=   4.2s\n",
            "[CV 2/5] END ...metric=euclidean, n_neighbors=7;, score=0.372 total time=   5.5s\n",
            "[CV 3/5] END ...metric=euclidean, n_neighbors=7;, score=0.382 total time=   4.2s\n",
            "[CV 4/5] END ...metric=euclidean, n_neighbors=7;, score=0.374 total time=   4.2s\n",
            "[CV 5/5] END ...metric=euclidean, n_neighbors=7;, score=0.382 total time=   6.4s\n",
            "[CV 1/5] END ...metric=manhattan, n_neighbors=3;, score=0.335 total time= 1.1min\n",
            "[CV 2/5] END ...metric=manhattan, n_neighbors=3;, score=0.340 total time= 1.1min\n",
            "[CV 3/5] END ...metric=manhattan, n_neighbors=3;, score=0.342 total time= 1.1min\n",
            "[CV 4/5] END ...metric=manhattan, n_neighbors=3;, score=0.345 total time= 1.1min\n",
            "[CV 5/5] END ...metric=manhattan, n_neighbors=3;, score=0.348 total time= 1.1min\n",
            "[CV 1/5] END ...metric=manhattan, n_neighbors=5;, score=0.342 total time= 1.1min\n",
            "[CV 2/5] END ...metric=manhattan, n_neighbors=5;, score=0.343 total time= 1.1min\n",
            "[CV 3/5] END ...metric=manhattan, n_neighbors=5;, score=0.349 total time= 1.1min\n",
            "[CV 4/5] END ...metric=manhattan, n_neighbors=5;, score=0.351 total time= 1.1min\n",
            "[CV 5/5] END ...metric=manhattan, n_neighbors=5;, score=0.352 total time= 1.1min\n",
            "[CV 1/5] END ...metric=manhattan, n_neighbors=7;, score=0.340 total time= 1.1min\n",
            "[CV 2/5] END ...metric=manhattan, n_neighbors=7;, score=0.349 total time= 1.1min\n",
            "[CV 3/5] END ...metric=manhattan, n_neighbors=7;, score=0.350 total time= 1.1min\n",
            "[CV 4/5] END ...metric=manhattan, n_neighbors=7;, score=0.349 total time= 1.1min\n",
            "[CV 5/5] END ...metric=manhattan, n_neighbors=7;, score=0.354 total time= 1.1min\n",
            "Best hyperparameters for CIFAR-10: {'metric': 'euclidean', 'n_neighbors': 7}\n",
            "Test accuracy for CIFAR-10 (k-NN): 0.3811\n"
          ]
        }
      ],
      "source": [
        "def dataloader_to_numpy(dataloader):\n",
        "    images, labels = [], []\n",
        "    for batch_images, batch_labels in dataloader:\n",
        "        images.append(batch_images.view(batch_images.size(0), -1).numpy())\n",
        "        labels.append(batch_labels.numpy())\n",
        "    return np.vstack(images), np.hstack(labels)\n",
        "\n",
        "# CIFAR-10 to numpy array\n",
        "X_train_cifar10, y_train_cifar10 = dataloader_to_numpy(trainloader_cifar10)\n",
        "X_test_cifar10, y_test_cifar10 = dataloader_to_numpy(testloader_cifar10)\n",
        "\n",
        "# Apply PCA for dimensionality reduction\n",
        "pca_cifar10 = PCA(n_components=100)  # You can change the number of components\n",
        "X_train_cifar10_pca = pca_cifar10.fit_transform(X_train_cifar10)\n",
        "X_test_cifar10_pca = pca_cifar10.transform(X_test_cifar10)\n",
        "\n",
        "# Defining hyperparameter grid for k-NN\n",
        "param_grid_cifar10 = {'n_neighbors': [3, 5, 7], 'metric': ['euclidean', 'manhattan']}\n",
        "\n",
        "# Create KNN classifier\n",
        "knn_cifar10 = KNeighborsClassifier()\n",
        "\n",
        "# Performing grid search with 5-fold cross-validation\n",
        "grid_search_cifar10 = GridSearchCV(knn_cifar10, param_grid_cifar10, cv=5, verbose=3)\n",
        "grid_search_cifar10.fit(X_train_cifar10_pca, y_train_cifar10)\n",
        "\n",
        "# Getting the best hyperparameters\n",
        "best_params_cifar10 = grid_search_cifar10.best_params_\n",
        "print(\"Best hyperparameters for CIFAR-10:\", best_params_cifar10)\n",
        "\n",
        "# Creating and training the k-NN classifier with the best hyperparameters\n",
        "best_knn_cifar10 = KNeighborsClassifier(**best_params_cifar10)\n",
        "best_knn_cifar10.fit(X_train_cifar10_pca, y_train_cifar10)\n",
        "\n",
        "# Prediction on the test data\n",
        "y_pred_cifar10 = best_knn_cifar10.predict(X_test_cifar10_pca)\n",
        "\n",
        "# Computing the accuracy\n",
        "accuracy_cifar10_knn = accuracy_score(y_test_cifar10, y_pred_cifar10)\n",
        "print(\"Test accuracy for CIFAR-10 (k-NN):\", accuracy_cifar10_knn)\n"
      ]
    },
    {
      "cell_type": "markdown",
      "metadata": {
        "id": "CGWG0TmK66R9"
      },
      "source": [
        "## **MLP for Classifying the CIFAR-10 Dataset**"
      ]
    },
    {
      "cell_type": "code",
      "execution_count": null,
      "metadata": {
        "id": "T-0Efv7Z7gTL"
      },
      "outputs": [],
      "source": [
        "# Creating data loaders for CIFAR-10 training and validation subsets\n",
        "trainloader_cifar10 = DataLoader(train_subset, batch_size=batch_size, shuffle=True, num_workers=2)\n",
        "val_loader_cifar10 = DataLoader(val_subset, batch_size=batch_size, shuffle=False, num_workers=2)"
      ]
    },
    {
      "cell_type": "code",
      "execution_count": null,
      "metadata": {
        "colab": {
          "base_uri": "https://localhost:8080/"
        },
        "id": "5-UM-0-H0lpG",
        "outputId": "383211da-c6ce-41a5-e35a-ac856a8a76f8"
      },
      "outputs": [
        {
          "name": "stderr",
          "output_type": "stream",
          "text": [
            "[I 2023-08-21 12:02:47,636] A new study created in memory with name: no-name-48a7c457-d9a4-48a5-a2a4-dc4841e1f59f\n",
            "<ipython-input-103-cf690c285e57>:24: FutureWarning: suggest_loguniform has been deprecated in v3.0.0. This feature will be removed in v6.0.0. See https://github.com/optuna/optuna/releases/tag/v3.0.0. Use suggest_float(..., log=True) instead.\n",
            "  lr = trial.suggest_loguniform('lr', 1e-3, 1e-2)\n",
            "[I 2023-08-21 12:05:20,649] Trial 0 finished with value: 0.3783 and parameters: {'lr': 0.0019111974391212228, 'hidden_units1': 185, 'hidden_units2': 229}. Best is trial 0 with value: 0.3783.\n",
            "[I 2023-08-21 12:08:10,751] Trial 1 finished with value: 0.4756 and parameters: {'lr': 0.006721749583494598, 'hidden_units1': 415, 'hidden_units2': 180}. Best is trial 1 with value: 0.4756.\n",
            "[I 2023-08-21 12:10:59,443] Trial 2 finished with value: 0.4754 and parameters: {'lr': 0.008108434223103828, 'hidden_units1': 360, 'hidden_units2': 173}. Best is trial 1 with value: 0.4756.\n",
            "[I 2023-08-21 12:13:36,312] Trial 3 finished with value: 0.417 and parameters: {'lr': 0.003041265326273271, 'hidden_units1': 262, 'hidden_units2': 167}. Best is trial 1 with value: 0.4756.\n",
            "[I 2023-08-21 12:16:01,777] Trial 4 finished with value: 0.414 and parameters: {'lr': 0.003237150742156892, 'hidden_units1': 172, 'hidden_units2': 208}. Best is trial 1 with value: 0.4756.\n",
            "[I 2023-08-21 12:18:34,936] Trial 5 finished with value: 0.3801 and parameters: {'lr': 0.001872583729421665, 'hidden_units1': 279, 'hidden_units2': 158}. Best is trial 1 with value: 0.4756.\n",
            "[I 2023-08-21 12:21:03,014] Trial 6 finished with value: 0.3808 and parameters: {'lr': 0.002007566898174069, 'hidden_units1': 244, 'hidden_units2': 190}. Best is trial 1 with value: 0.4756.\n",
            "[I 2023-08-21 12:23:32,383] Trial 7 finished with value: 0.379 and parameters: {'lr': 0.001988843884090409, 'hidden_units1': 230, 'hidden_units2': 204}. Best is trial 1 with value: 0.4756.\n",
            "[I 2023-08-21 12:26:16,865] Trial 8 finished with value: 0.4254 and parameters: {'lr': 0.003595110376217958, 'hidden_units1': 397, 'hidden_units2': 284}. Best is trial 1 with value: 0.4756.\n",
            "[I 2023-08-21 12:28:43,454] Trial 9 finished with value: 0.3326 and parameters: {'lr': 0.0010861235896341965, 'hidden_units1': 221, 'hidden_units2': 127}. Best is trial 1 with value: 0.4756.\n",
            "[I 2023-08-21 12:31:34,013] Trial 10 finished with value: 0.4989 and parameters: {'lr': 0.009369373076469945, 'hidden_units1': 499, 'hidden_units2': 51}. Best is trial 10 with value: 0.4989.\n",
            "[I 2023-08-21 12:34:21,762] Trial 11 finished with value: 0.5021 and parameters: {'lr': 0.009442718194256546, 'hidden_units1': 490, 'hidden_units2': 51}. Best is trial 11 with value: 0.5021.\n",
            "[I 2023-08-21 12:37:13,483] Trial 12 finished with value: 0.5067 and parameters: {'lr': 0.009937017892464617, 'hidden_units1': 497, 'hidden_units2': 53}. Best is trial 12 with value: 0.5067.\n",
            "[I 2023-08-21 12:40:02,245] Trial 13 finished with value: 0.5055 and parameters: {'lr': 0.009919475457505433, 'hidden_units1': 499, 'hidden_units2': 50}. Best is trial 12 with value: 0.5067.\n",
            "[I 2023-08-21 12:42:46,439] Trial 14 finished with value: 0.4667 and parameters: {'lr': 0.006200696093526744, 'hidden_units1': 437, 'hidden_units2': 95}. Best is trial 12 with value: 0.5067.\n",
            "[I 2023-08-21 12:45:02,909] Trial 15 finished with value: 0.4555 and parameters: {'lr': 0.006080237085422602, 'hidden_units1': 101, 'hidden_units2': 91}. Best is trial 12 with value: 0.5067.\n",
            "[I 2023-08-21 12:47:39,964] Trial 16 finished with value: 0.4534 and parameters: {'lr': 0.005323915029906556, 'hidden_units1': 343, 'hidden_units2': 87}. Best is trial 12 with value: 0.5067.\n",
            "[I 2023-08-21 12:50:31,852] Trial 17 finished with value: 0.4853 and parameters: {'lr': 0.007899719061290496, 'hidden_units1': 456, 'hidden_units2': 117}. Best is trial 12 with value: 0.5067.\n",
            "[I 2023-08-21 12:53:21,823] Trial 18 finished with value: 0.4978 and parameters: {'lr': 0.009831530070973624, 'hidden_units1': 334, 'hidden_units2': 73}. Best is trial 12 with value: 0.5067.\n",
            "[I 2023-08-21 12:56:19,041] Trial 19 finished with value: 0.4551 and parameters: {'lr': 0.004912487087363328, 'hidden_units1': 457, 'hidden_units2': 139}. Best is trial 12 with value: 0.5067.\n"
          ]
        },
        {
          "name": "stdout",
          "output_type": "stream",
          "text": [
            "Number of finished trials:  20\n",
            "Best trial:\n",
            "Value:  0.5067\n",
            "Best Params: 0.009937017892464617 497 53\n",
            "    lr: 0.009937017892464617\n",
            "    hidden_units1: 497\n",
            "    hidden_units2: 53\n"
          ]
        }
      ],
      "source": [
        "# Splitting the training set into training and validation sets\n",
        "train_size = int(0.8 * len(trainset_cifar10))\n",
        "val_size = len(trainset_cifar10) - train_size\n",
        "train_subset, val_subset = random_split(trainset_cifar10, [train_size, val_size])\n",
        "\n",
        "# Defining the MLP model\n",
        "class MLP_CIFAR10(nn.Module):\n",
        "    def __init__(self, hidden_units1=512, hidden_units2=256):\n",
        "        super(MLP_CIFAR10, self).__init__()\n",
        "        self.fc1 = nn.Linear(32 * 32 * 3, hidden_units1)\n",
        "        self.fc2 = nn.Linear(hidden_units1, hidden_units2)\n",
        "        self.fc3 = nn.Linear(hidden_units2, 10)\n",
        "        self.relu = nn.ReLU()\n",
        "\n",
        "    def forward(self, x):\n",
        "        x = x.view(x.size(0), -1)  # Flatten the input\n",
        "        x = self.relu(self.fc1(x))\n",
        "        x = self.relu(self.fc2(x))\n",
        "        x = self.fc3(x)\n",
        "        return x\n",
        "\n",
        "def objective_cifar10(trial):\n",
        "    # Hyperparameters to be optimized\n",
        "    lr = trial.suggest_loguniform('lr', 1e-3, 1e-2)\n",
        "    hidden_units1 = trial.suggest_int('hidden_units1', 100, 500)\n",
        "    hidden_units2 = trial.suggest_int('hidden_units2', 50, 300)\n",
        "\n",
        "    # Define and train the MLP with these hyperparameters\n",
        "    model = MLP_CIFAR10(hidden_units1=hidden_units1, hidden_units2=hidden_units2)\n",
        "    optimizer = optim.SGD(model.parameters(), lr=lr)\n",
        "    criterion = nn.CrossEntropyLoss()\n",
        "\n",
        "    # Training loop\n",
        "    num_epochs = 10\n",
        "    for epoch in range(num_epochs):\n",
        "        for inputs, labels in trainloader_cifar10:\n",
        "            optimizer.zero_grad()\n",
        "            outputs = model(inputs)\n",
        "            loss = criterion(outputs, labels)\n",
        "            loss.backward()\n",
        "            optimizer.step()\n",
        "\n",
        "    # Evaluate the model on the validation set\n",
        "    val_accuracy = evaluate_model(model, val_loader_cifar10)\n",
        "\n",
        "    return val_accuracy\n",
        "\n",
        "# Create study object\n",
        "study_cifar10 = optuna.create_study(direction='maximize')\n",
        "\n",
        "# Optimize study and pass the objective function as first argument\n",
        "study_cifar10.optimize(objective_cifar10, n_trials=20)\n",
        "\n",
        "# Results\n",
        "print('Number of finished trials: ', len(study_cifar10.trials))\n",
        "print('Best trial:')\n",
        "trial_cifar10 = study_cifar10.best_trial\n",
        "\n",
        "print('Value: ', trial_cifar10.value)\n",
        "best_lr = trial_cifar10.params['lr']\n",
        "best_hidden_units1 = trial_cifar10.params['hidden_units1']\n",
        "best_hidden_units2 = trial_cifar10.params['hidden_units2']\n",
        "print('Best Params:', best_lr, best_hidden_units1, best_hidden_units2)\n",
        "\n",
        "for key, value in trial_cifar10.params.items():\n",
        "    print(f'    {key}: {value}')\n"
      ]
    },
    {
      "cell_type": "code",
      "execution_count": null,
      "metadata": {
        "id": "unPAofHQ8GXG"
      },
      "outputs": [],
      "source": [
        "class MLP_CIFAR10(nn.Module):\n",
        "    def __init__(self, hidden_units1=512, hidden_units2=256):\n",
        "        super(MLP_CIFAR10, self).__init__()\n",
        "        self.fc1 = nn.Linear(32 * 32 * 3, hidden_units1)\n",
        "        self.fc2 = nn.Linear(hidden_units1, hidden_units2)\n",
        "        self.fc3 = nn.Linear(hidden_units2, 10)\n",
        "        self.relu = nn.ReLU()\n",
        "\n",
        "    def forward(self, x):\n",
        "        x = x.view(x.size(0), -1)\n",
        "        x = self.relu(self.fc1(x))\n",
        "        x = self.relu(self.fc2(x))\n",
        "        x = self.fc3(x)\n",
        "        return x"
      ]
    },
    {
      "cell_type": "code",
      "execution_count": null,
      "metadata": {
        "colab": {
          "base_uri": "https://localhost:8080/"
        },
        "id": "8U7-3o-r8JJN",
        "outputId": "28d421e9-1e35-4f71-ca52-4211e0bf9071"
      },
      "outputs": [
        {
          "name": "stdout",
          "output_type": "stream",
          "text": [
            "Test accuracy for CIFAR-10 (MLP): 0.5189\n"
          ]
        }
      ],
      "source": [
        "model_mlp_cifar10 = MLP_CIFAR10(hidden_units1=best_hidden_units1, hidden_units2=best_hidden_units2)\n",
        "\n",
        "# Loss function\n",
        "criterion = nn.CrossEntropyLoss()\n",
        "\n",
        "# Optimizer (e.g., SGD)\n",
        "optimizer = optim.SGD(model_mlp_cifar10.parameters(), lr=best_lr, momentum=0.9)\n",
        "\n",
        "# Training\n",
        "num_epochs = 10\n",
        "for epoch in range(num_epochs):\n",
        "    for inputs, labels in trainloader_cifar10:\n",
        "        optimizer.zero_grad()\n",
        "        outputs = model_mlp_cifar10(inputs)\n",
        "        loss = criterion(outputs, labels)\n",
        "        loss.backward()\n",
        "        optimizer.step()\n",
        "\n",
        "# Evaluating final model on test data\n",
        "accuracy_mlp_cifar10 = evaluate_model(model_mlp_cifar10, testloader_cifar10)\n",
        "print(\"Test accuracy for CIFAR-10 (MLP):\", accuracy_mlp_cifar10)"
      ]
    },
    {
      "cell_type": "markdown",
      "metadata": {
        "id": "3avmYrTK-rE-"
      },
      "source": [
        "## **CNN for Classifying the CIFAR-10 Dataset**"
      ]
    },
    {
      "cell_type": "code",
      "execution_count": null,
      "metadata": {
        "id": "vCR5lj21-0uU"
      },
      "outputs": [],
      "source": [
        "# Splitting the data into training and validation sets\n",
        "train_size_cifar10 = int(0.8 * len(trainset_cifar10))\n",
        "val_size_cifar10 = len(trainset_cifar10) - train_size_cifar10\n",
        "train_subset_cifar10, val_subset_cifar10 = random_split(trainset_cifar10, [train_size_cifar10, val_size_cifar10])\n",
        "\n",
        "trainloader_cifar10 = DataLoader(train_subset_cifar10, batch_size=64, shuffle=True)\n",
        "val_loader_cifar10 = DataLoader(val_subset_cifar10, batch_size=64, shuffle=False)"
      ]
    },
    {
      "cell_type": "code",
      "execution_count": null,
      "metadata": {
        "id": "5IcDvCK-OiWd"
      },
      "outputs": [],
      "source": [
        "class CNN_CIFAR10(nn.Module):\n",
        "    def __init__(self, dropout_rate=0.3):\n",
        "        super(CNN_CIFAR10, self).__init__()\n",
        "        self.conv1 = nn.Conv2d(3, 32, 3, 1)\n",
        "        self.conv2 = nn.Conv2d(32, 64, 3, 1)\n",
        "        self.conv3 = nn.Conv2d(64, 128, 3, 1)\n",
        "        self.pool = nn.MaxPool2d(2, 2)\n",
        "        self.dropout1 = nn.Dropout(dropout_rate)\n",
        "        self.dropout2 = nn.Dropout(dropout_rate)\n",
        "        self.fc1 = nn.Linear(128 * 4 * 4, 256)\n",
        "        self.fc2 = nn.Linear(256, 128)\n",
        "        self.fc3 = nn.Linear(128, 10)\n",
        "\n",
        "    def forward(self, x):\n",
        "        x = self.pool(F.relu(self.conv1(x)))\n",
        "        x = self.pool(F.relu(self.conv2(x)))\n",
        "        x = F.relu(self.conv3(x))\n",
        "        x = torch.flatten(x, 1)\n",
        "        x = self.dropout1(x)\n",
        "        x = F.relu(self.fc1(x))\n",
        "        x = self.dropout2(x)\n",
        "        x = F.relu(self.fc2(x))\n",
        "        x = self.fc3(x)\n",
        "        return x"
      ]
    },
    {
      "cell_type": "code",
      "execution_count": null,
      "metadata": {
        "colab": {
          "base_uri": "https://localhost:8080/"
        },
        "id": "QlcRb-62P8V9",
        "outputId": "8d717dc4-4393-461f-c694-a821e90b229f"
      },
      "outputs": [
        {
          "name": "stdout",
          "output_type": "stream",
          "text": [
            "Epoch 1/10 - Training Loss: 1.629682534790039\n",
            "Epoch 2/10 - Training Loss: 1.2935339420318603\n",
            "Epoch 3/10 - Training Loss: 1.1143361022949219\n",
            "Epoch 4/10 - Training Loss: 0.9883827204704285\n",
            "Epoch 5/10 - Training Loss: 0.8912826970100403\n",
            "Epoch 6/10 - Training Loss: 0.8132527493953705\n",
            "Epoch 7/10 - Training Loss: 0.7641592841148377\n",
            "Epoch 8/10 - Training Loss: 0.7139746475696563\n",
            "Epoch 9/10 - Training Loss: 0.6729323338508606\n",
            "Epoch 10/10 - Training Loss: 0.6347983441352845\n",
            "Params: {'lr': 0.001, 'dropout_rate': 0.3} Validation Accuracy: 0.7389\n",
            "Epoch 1/10 - Training Loss: 1.6811346324920655\n",
            "Epoch 2/10 - Training Loss: 1.3335392119407654\n",
            "Epoch 3/10 - Training Loss: 1.1806680936813354\n",
            "Epoch 4/10 - Training Loss: 1.0731873594284058\n",
            "Epoch 5/10 - Training Loss: 0.9895928985595703\n",
            "Epoch 6/10 - Training Loss: 0.9273958760261536\n",
            "Epoch 7/10 - Training Loss: 0.8904425423622131\n",
            "Epoch 8/10 - Training Loss: 0.8449645387649536\n",
            "Epoch 9/10 - Training Loss: 0.8108072228431702\n",
            "Epoch 10/10 - Training Loss: 0.7856662346363068\n",
            "Params: {'lr': 0.001, 'dropout_rate': 0.5} Validation Accuracy: 0.7206\n",
            "Epoch 1/10 - Training Loss: 1.9137273912429809\n",
            "Epoch 2/10 - Training Loss: 1.61740887260437\n",
            "Epoch 3/10 - Training Loss: 1.5092209644317627\n",
            "Epoch 4/10 - Training Loss: 1.4380247173309326\n",
            "Epoch 5/10 - Training Loss: 1.378343408203125\n",
            "Epoch 6/10 - Training Loss: 1.3211205894470215\n",
            "Epoch 7/10 - Training Loss: 1.2746158918380737\n",
            "Epoch 8/10 - Training Loss: 1.2298743375778198\n",
            "Epoch 9/10 - Training Loss: 1.1857943263053894\n",
            "Epoch 10/10 - Training Loss: 1.1551336122512816\n",
            "Params: {'lr': 0.0001, 'dropout_rate': 0.3} Validation Accuracy: 0.5913\n",
            "Epoch 1/10 - Training Loss: 1.9182724807739258\n",
            "Epoch 2/10 - Training Loss: 1.6503074319839477\n",
            "Epoch 3/10 - Training Loss: 1.5467156454086304\n",
            "Epoch 4/10 - Training Loss: 1.4728663232803345\n",
            "Epoch 5/10 - Training Loss: 1.4187147888183593\n",
            "Epoch 6/10 - Training Loss: 1.3658735294342041\n",
            "Epoch 7/10 - Training Loss: 1.3164206342697145\n",
            "Epoch 8/10 - Training Loss: 1.2809737007141113\n",
            "Epoch 9/10 - Training Loss: 1.24325656747818\n",
            "Epoch 10/10 - Training Loss: 1.2059157649993897\n",
            "Params: {'lr': 0.0001, 'dropout_rate': 0.5} Validation Accuracy: 0.6009\n",
            "Best accuracy: 0.7389\n",
            "Best parameters: {'lr': 0.001, 'dropout_rate': 0.3}\n"
          ]
        }
      ],
      "source": [
        "def evaluate_model(model, dataloader):\n",
        "    model.eval()\n",
        "    correct = 0\n",
        "    total = 0\n",
        "    with torch.no_grad():\n",
        "        for inputs, labels in dataloader:\n",
        "            outputs = model(inputs)\n",
        "            _, predicted = torch.max(outputs.data, 1)\n",
        "            total += labels.size(0)\n",
        "            correct += (predicted == labels).sum().item()\n",
        "    accuracy = correct / total\n",
        "    return accuracy\n",
        "\n",
        "def train_evaluate_cifar10(params):\n",
        "    model = CNN_CIFAR10(dropout_rate=params['dropout_rate'])\n",
        "    optimizer = optim.Adam(model.parameters(), lr=params['lr'])\n",
        "    criterion = nn.CrossEntropyLoss()\n",
        "\n",
        "    # Training\n",
        "    num_epochs = 10\n",
        "    for epoch in range(num_epochs):\n",
        "      model.train()\n",
        "      running_loss = 0.0\n",
        "      for inputs, labels in trainloader_cifar10:\n",
        "        optimizer.zero_grad()\n",
        "        outputs = model(inputs)\n",
        "        loss = criterion(outputs, labels)\n",
        "        loss.backward()\n",
        "        optimizer.step()\n",
        "        running_loss += loss.item() * inputs.size(0)\n",
        "\n",
        "      epoch_loss = running_loss / len(trainloader_cifar10.dataset)\n",
        "      print(f\"Epoch {epoch+1}/{num_epochs} - Training Loss: {epoch_loss}\")\n",
        "\n",
        "    val_accuracy = evaluate_model(model, val_loader_cifar10)\n",
        "    return val_accuracy\n",
        "\n",
        "learning_rates_cifar10 = [1e-3, 1e-4]\n",
        "dropout_rates_cifar10 = [0.3, 0.5]\n",
        "\n",
        "best_accuracy_cifar10 = 0\n",
        "best_params_cifar10 = None\n",
        "\n",
        "# Iterating through the hyperparameter combinations\n",
        "for lr in learning_rates_cifar10:\n",
        "    for dropout_rate in dropout_rates_cifar10:\n",
        "        params_cifar10 = {'lr': lr, 'dropout_rate': dropout_rate}\n",
        "        val_accuracy_cifar10 = train_evaluate_cifar10(params_cifar10)\n",
        "        print(\"Params:\", params_cifar10, \"Validation Accuracy:\", val_accuracy_cifar10)\n",
        "        if val_accuracy_cifar10 > best_accuracy_cifar10:\n",
        "            best_accuracy_cifar10 = val_accuracy_cifar10\n",
        "            best_params_cifar10 = params_cifar10\n",
        "\n",
        "print(\"Best accuracy:\", best_accuracy_cifar10)\n",
        "print(\"Best parameters:\", best_params_cifar10)"
      ]
    },
    {
      "cell_type": "code",
      "execution_count": null,
      "metadata": {
        "colab": {
          "base_uri": "https://localhost:8080/"
        },
        "id": "wRbyVs3IbfCE",
        "outputId": "e196112c-5302-4e62-ca73-5a452b84db74"
      },
      "outputs": [
        {
          "name": "stdout",
          "output_type": "stream",
          "text": [
            "Test accuracy for CIFAR-10 (CNN): 0.7514\n"
          ]
        }
      ],
      "source": [
        "# Combining the training and validation subsets for final training\n",
        "final_trainloader_cifar10 = DataLoader(trainset_cifar10, batch_size=64, shuffle=True)\n",
        "\n",
        "# Hyperparameters obtained from previous tuning\n",
        "best_lr_cifar10 = 0.001\n",
        "best_dropout_rate_cifar10 = 0.3\n",
        "\n",
        "# Defining and training the model with the best hyperparameters\n",
        "final_model_cifar10 = CNN_CIFAR10(dropout_rate=best_dropout_rate_cifar10)\n",
        "final_optimizer_cifar10 = optim.Adam(final_model_cifar10.parameters(), lr=best_lr_cifar10)\n",
        "final_criterion_cifar10 = nn.CrossEntropyLoss()\n",
        "\n",
        "num_epochs = 10\n",
        "for epoch in range(num_epochs):\n",
        "    for inputs, labels in final_trainloader_cifar10:\n",
        "        final_optimizer_cifar10.zero_grad()\n",
        "        outputs = final_model_cifar10(inputs)\n",
        "        loss = final_criterion_cifar10(outputs, labels)\n",
        "        loss.backward()\n",
        "        final_optimizer_cifar10.step()\n",
        "\n",
        "# Evaluating the model on the test set\n",
        "test_accuracy_cifar10 = evaluate_model(final_model_cifar10, testloader_cifar10)\n",
        "print(\"Test accuracy for CIFAR-10 (CNN):\", test_accuracy_cifar10)"
      ]
    },
    {
      "cell_type": "markdown",
      "metadata": {
        "id": "0SLMUxnsinmL"
      },
      "source": [
        "## **Comparing the Models**"
      ]
    },
    {
      "cell_type": "code",
      "execution_count": null,
      "metadata": {
        "colab": {
          "base_uri": "https://localhost:8080/"
        },
        "id": "-Q-7Q4FzisHZ",
        "outputId": "af963724-9ff0-45e0-dc1a-110b9cc051c7"
      },
      "outputs": [
        {
          "name": "stdout",
          "output_type": "stream",
          "text": [
            "Summary of accuracies for CIFAR-10:\n",
            "k-NN: 38.11%\n",
            "MLP: 51.89%\n",
            "CNN: 75.14%\n"
          ]
        }
      ],
      "source": [
        "cifar10_accuracies = {\n",
        "    'k-NN': accuracy_cifar10_knn,\n",
        "    'MLP': accuracy_mlp_cifar10,\n",
        "    'CNN': test_accuracy_cifar10\n",
        "}\n",
        "\n",
        "print(\"Summary of accuracies for CIFAR-10:\")\n",
        "for model, accuracy in cifar10_accuracies.items():\n",
        "    print(f\"{model}: {accuracy * 100:.2f}%\")"
      ]
    },
    {
      "cell_type": "code",
      "execution_count": null,
      "metadata": {
        "colab": {
          "base_uri": "https://localhost:8080/",
          "height": 472
        },
        "id": "ag-xdWb-isaI",
        "outputId": "ddfe2907-9cb9-46c9-d8b7-69a35d648c2c"
      },
      "outputs": [
        {
          "data": {
            "image/png": "[encoded data removed]",
            "text/plain": [
              "<Figure size 640x480 with 1 Axes>"
            ]
          },
          "metadata": {},
          "output_type": "display_data"
        }
      ],
      "source": [
        "models = ['k-NN', 'MLP', 'CNN']\n",
        "accuracies_cifar10 = [accuracy_cifar10_knn, accuracy_mlp_cifar10, test_accuracy_cifar10]\n",
        "\n",
        "plt.bar(models, accuracies_cifar10)\n",
        "plt.ylim(0, 1)\n",
        "plt.ylabel('Accuracy')\n",
        "plt.xlabel('Model')\n",
        "plt.title('Comparison of Models on CIFAR-10')\n",
        "plt.show()"
      ]
    },
    {
      "cell_type": "markdown",
      "metadata": {
        "id": "UeE8Gts4jRHf"
      },
      "source": [
        "## **Error Analysis for the Best Model**"
      ]
    },
    {
      "cell_type": "code",
      "execution_count": null,
      "metadata": {
        "colab": {
          "base_uri": "https://localhost:8080/",
          "height": 74
        },
        "id": "UEfOU65_pTjY",
        "outputId": "efd556e3-8ed7-4ba2-9c81-1e56cdba6997"
      },
      "outputs": [
        {
          "data": {
            "text/html": [
              "<style>#sk-container-id-1 {color: black;background-color: white;}#sk-container-id-1 pre{padding: 0;}#sk-container-id-1 div.sk-toggleable {background-color: white;}#sk-container-id-1 label.sk-toggleable__label {cursor: pointer;display: block;width: 100%;margin-bottom: 0;padding: 0.3em;box-sizing: border-box;text-align: center;}#sk-container-id-1 label.sk-toggleable__label-arrow:before {content: \"▸\";float: left;margin-right: 0.25em;color: #696969;}#sk-container-id-1 label.sk-toggleable__label-arrow:hover:before {color: black;}#sk-container-id-1 div.sk-estimator:hover label.sk-toggleable__label-arrow:before {color: black;}#sk-container-id-1 div.sk-toggleable__content {max-height: 0;max-width: 0;overflow: hidden;text-align: left;background-color: #f0f8ff;}#sk-container-id-1 div.sk-toggleable__content pre {margin: 0.2em;color: black;border-radius: 0.25em;background-color: #f0f8ff;}#sk-container-id-1 input.sk-toggleable__control:checked~div.sk-toggleable__content {max-height: 200px;max-width: 100%;overflow: auto;}#sk-container-id-1 input.sk-toggleable__control:checked~label.sk-toggleable__label-arrow:before {content: \"▾\";}#sk-container-id-1 div.sk-estimator input.sk-toggleable__control:checked~label.sk-toggleable__label {background-color: #d4ebff;}#sk-container-id-1 div.sk-label input.sk-toggleable__control:checked~label.sk-toggleable__label {background-color: #d4ebff;}#sk-container-id-1 input.sk-hidden--visually {border: 0;clip: rect(1px 1px 1px 1px);clip: rect(1px, 1px, 1px, 1px);height: 1px;margin: -1px;overflow: hidden;padding: 0;position: absolute;width: 1px;}#sk-container-id-1 div.sk-estimator {font-family: monospace;background-color: #f0f8ff;border: 1px dotted black;border-radius: 0.25em;box-sizing: border-box;margin-bottom: 0.5em;}#sk-container-id-1 div.sk-estimator:hover {background-color: #d4ebff;}#sk-container-id-1 div.sk-parallel-item::after {content: \"\";width: 100%;border-bottom: 1px solid gray;flex-grow: 1;}#sk-container-id-1 div.sk-label:hover label.sk-toggleable__label {background-color: #d4ebff;}#sk-container-id-1 div.sk-serial::before {content: \"\";position: absolute;border-left: 1px solid gray;box-sizing: border-box;top: 0;bottom: 0;left: 50%;z-index: 0;}#sk-container-id-1 div.sk-serial {display: flex;flex-direction: column;align-items: center;background-color: white;padding-right: 0.2em;padding-left: 0.2em;position: relative;}#sk-container-id-1 div.sk-item {position: relative;z-index: 1;}#sk-container-id-1 div.sk-parallel {display: flex;align-items: stretch;justify-content: center;background-color: white;position: relative;}#sk-container-id-1 div.sk-item::before, #sk-container-id-1 div.sk-parallel-item::before {content: \"\";position: absolute;border-left: 1px solid gray;box-sizing: border-box;top: 0;bottom: 0;left: 50%;z-index: -1;}#sk-container-id-1 div.sk-parallel-item {display: flex;flex-direction: column;z-index: 1;position: relative;background-color: white;}#sk-container-id-1 div.sk-parallel-item:first-child::after {align-self: flex-end;width: 50%;}#sk-container-id-1 div.sk-parallel-item:last-child::after {align-self: flex-start;width: 50%;}#sk-container-id-1 div.sk-parallel-item:only-child::after {width: 0;}#sk-container-id-1 div.sk-dashed-wrapped {border: 1px dashed gray;margin: 0 0.4em 0.5em 0.4em;box-sizing: border-box;padding-bottom: 0.4em;background-color: white;}#sk-container-id-1 div.sk-label label {font-family: monospace;font-weight: bold;display: inline-block;line-height: 1.2em;}#sk-container-id-1 div.sk-label-container {text-align: center;}#sk-container-id-1 div.sk-container {/* jupyter's `normalize.less` sets `[hidden] { display: none; }` but bootstrap.min.css set `[hidden] { display: none !important; }` so we also need the `!important` here to be able to override the default hidden behavior on the sphinx rendered scikit-learn.org. See: https://github.com/scikit-learn/scikit-learn/issues/21755 */display: inline-block !important;position: relative;}#sk-container-id-1 div.sk-text-repr-fallback {display: none;}</style><div id=\"sk-container-id-1\" class=\"sk-top-container\"><div class=\"sk-text-repr-fallback\"><pre>KNeighborsClassifier(n_neighbors=3)</pre><b>In a Jupyter environment, please rerun this cell to show the HTML representation or trust the notebook. <br />On GitHub, the HTML representation is unable to render, please try loading this page with nbviewer.org.</b></div><div class=\"sk-container\" hidden><div class=\"sk-item\"><div class=\"sk-estimator sk-toggleable\"><input class=\"sk-toggleable__control sk-hidden--visually\" id=\"sk-estimator-id-1\" type=\"checkbox\" checked><label for=\"sk-estimator-id-1\" class=\"sk-toggleable__label sk-toggleable__label-arrow\">KNeighborsClassifier</label><div class=\"sk-toggleable__content\"><pre>KNeighborsClassifier(n_neighbors=3)</pre></div></div></div></div></div>"
            ],
            "text/plain": [
              "KNeighborsClassifier(n_neighbors=3)"
            ]
          },
          "execution_count": 138,
          "metadata": {},
          "output_type": "execute_result"
        }
      ],
      "source": [
        "# Preparing the training data\n",
        "X_train_cifar10 = []\n",
        "y_train_cifar10 = []\n",
        "\n",
        "for images, labels in trainloader_cifar10:\n",
        "    images_flat = images.view(images.shape[0], -1).numpy()\n",
        "    X_train_cifar10.extend(images_flat)\n",
        "    y_train_cifar10.extend(labels.numpy())\n",
        "\n",
        "# Initializing and training the k-NN classifier\n",
        "knn_cifar10 = KNeighborsClassifier(n_neighbors=3)\n",
        "knn_cifar10.fit(X_train_cifar10, y_train_cifar10)"
      ]
    },
    {
      "cell_type": "code",
      "execution_count": null,
      "metadata": {
        "colab": {
          "base_uri": "https://localhost:8080/",
          "height": 783
        },
        "id": "dl-WZ8QRjcRs",
        "outputId": "6c32d072-4a50-4096-a63c-bfdab9fc84aa"
      },
      "outputs": [
        {
          "data": {
            "image/png": "[encoded data removed]",
            "text/plain": [
              "<Figure size 1000x800 with 2 Axes>"
            ]
          },
          "metadata": {},
          "output_type": "display_data"
        }
      ],
      "source": [
        "# Function to get predictions\n",
        "def get_predictions(model, dataloader):\n",
        "    model.eval()\n",
        "    y_true = []\n",
        "    y_pred = []\n",
        "    with torch.no_grad():\n",
        "        for inputs, labels in dataloader:\n",
        "            outputs = model(inputs)\n",
        "            _, predicted = torch.max(outputs.data, 1)\n",
        "            y_true.extend(labels.numpy())\n",
        "            y_pred.extend(predicted.numpy())\n",
        "    return y_true, y_pred\n",
        "\n",
        "# Getting the true and predicted labels\n",
        "y_true_cifar10, y_pred_cifar10 = get_predictions(final_model_cifar10, testloader_cifar10)\n",
        "\n",
        "# Computing the confusion matrix\n",
        "conf_matrix_cifar10 = confusion_matrix(y_true_cifar10, y_pred_cifar10)\n",
        "\n",
        "# Defining the CIFAR-10 class labels\n",
        "class_labels_cifar10 = ['airplane', 'automobile', 'bird', 'cat', 'deer', 'dog', 'frog', 'horse', 'ship', 'truck']\n",
        "\n",
        "# Ploting the confusion matrix\n",
        "plt.figure(figsize=(10, 8))\n",
        "sns.heatmap(conf_matrix_cifar10, annot=True, fmt=\"d\", cmap=\"Blues\", xticklabels=class_labels_cifar10, yticklabels=class_labels_cifar10)\n",
        "plt.xlabel('Predicted')\n",
        "plt.ylabel('Actual')\n",
        "plt.title('Confusion Matrix for CNN on CIFAR-10')\n",
        "plt.show()"
      ]
    },
    {
      "cell_type": "code",
      "execution_count": null,
      "metadata": {
        "colab": {
          "base_uri": "https://localhost:8080/"
        },
        "id": "dRA8Ay2PncUo",
        "outputId": "627617ff-0012-4da7-895a-4fc3ba6eec2b"
      },
      "outputs": [
        {
          "name": "stdout",
          "output_type": "stream",
          "text": [
            "The most common misclassification in CIFAR-10 is between class 3 and class 5\n"
          ]
        }
      ],
      "source": [
        "# Setting diagonal elements to zero to consider only misclassifications\n",
        "np.fill_diagonal(conf_matrix_cifar10, 0)\n",
        "\n",
        "# Coordinates for the max value in the confusion matrix\n",
        "row_cifar10, col_cifar10 = np.unravel_index(conf_matrix_cifar10.argmax(), conf_matrix_cifar10.shape)\n",
        "\n",
        "print(f\"The most common misclassification in CIFAR-10 is between class {row_cifar10} and class {col_cifar10}\")\n"
      ]
    },
    {
      "cell_type": "code",
      "execution_count": null,
      "metadata": {
        "colab": {
          "base_uri": "https://localhost:8080/",
          "height": 422
        },
        "id": "OkLuoKcArPhU",
        "outputId": "71279bc2-8751-471a-a84f-d571d59a0454"
      },
      "outputs": [
        {
          "data": {
            "image/png": "[encoded data removed]",
            "text/plain": [
              "<Figure size 1200x500 with 10 Axes>"
            ]
          },
          "metadata": {},
          "output_type": "display_data"
        }
      ],
      "source": [
        "misclassified_cats_and_dogs = [(img, pred) for img, true, pred in zip(X_test_cifar10, y_true_cifar10, y_pred_cifar10) if (true, pred) == (3, 5) or (true, pred) == (5, 3)]\n",
        "\n",
        "# Displaying some misclassified images\n",
        "fig, axes = plt.subplots(2, 5, figsize=(12, 5))\n",
        "axes = axes.ravel()\n",
        "\n",
        "for i in np.arange(10):\n",
        "    image = misclassified_cats_and_dogs[i][0]\n",
        "\n",
        "    # Reshaping considering the channel order\n",
        "    image = image.reshape(3, 32, 32).transpose(1, 2, 0)\n",
        "\n",
        "    # Normalization [0, 1]\n",
        "    if image.max() > 1:\n",
        "        image = image / 255.0\n",
        "\n",
        "    # Clipping to make sure all values are in the [0, 1] range\n",
        "    image = np.clip(image, 0, 1)\n",
        "\n",
        "    axes[i].imshow(image)\n",
        "    axes[i].set_title(f\"Predicted: {'Dog' if misclassified_cats_and_dogs[i][1] == 5 else 'Cat'}\\nActual: {'Cat' if misclassified_cats_and_dogs[i][1] == 5 else 'Dog'}\")\n",
        "    axes[i].axis('off')\n",
        "\n",
        "\n",
        "plt.subplots_adjust(wspace=0.5)\n",
        "plt.show()"
      ]
    }
  ],
  "metadata": {
    "colab": {
      "collapsed_sections": [
        "uNKuucR6onpa",
        "2exngx8WSA0Q",
        "3_0gPFDr-0tl",
        "OfeWnybVz0qZ",
        "CGWG0TmK66R9",
        "UeE8Gts4jRHf"
      ],
      "provenance": []
    },
    "kernelspec": {
      "display_name": "Python 3",
      "name": "python3"
    },
    "language_info": {
      "name": "python"
    }
  },
  "nbformat": 4,
  "nbformat_minor": 0
}
